{
 "cells": [
  {
   "cell_type": "markdown",
   "id": "b23201d4",
   "metadata": {},
   "source": [
    "### Variables \n",
    " "
   ]
  },
  {
   "cell_type": "code",
   "execution_count": null,
   "id": "a58907d7",
   "metadata": {},
   "outputs": [],
   "source": [
    "# a=3\n",
    "# a=453\n",
    "# b='ali'\n",
    "# c=4.66\n"
   ]
  },
  {
   "cell_type": "code",
   "execution_count": null,
   "id": "67261bca",
   "metadata": {},
   "outputs": [],
   "source": []
  },
  {
   "cell_type": "markdown",
   "id": "68432d85",
   "metadata": {},
   "source": [
    "### Constants"
   ]
  },
  {
   "cell_type": "code",
   "execution_count": null,
   "id": "62e91772",
   "metadata": {},
   "outputs": [],
   "source": [
    "# 3\n",
    "# 5\n",
    "# 234234\n",
    "# 3.555"
   ]
  },
  {
   "cell_type": "code",
   "execution_count": 1,
   "id": "b927a5e6",
   "metadata": {},
   "outputs": [],
   "source": [
    "a=3\n",
    "b='azeem'\n",
    "c=True\n"
   ]
  },
  {
   "cell_type": "code",
   "execution_count": 2,
   "id": "c13e33b4",
   "metadata": {},
   "outputs": [
    {
     "name": "stdout",
     "output_type": "stream",
     "text": [
      "3\n"
     ]
    }
   ],
   "source": [
    "print(a)"
   ]
  },
  {
   "cell_type": "code",
   "execution_count": 3,
   "id": "188139ef",
   "metadata": {},
   "outputs": [
    {
     "name": "stdout",
     "output_type": "stream",
     "text": [
      "azeem\n"
     ]
    }
   ],
   "source": [
    "print(b)"
   ]
  },
  {
   "cell_type": "code",
   "execution_count": 4,
   "id": "9f719412",
   "metadata": {},
   "outputs": [
    {
     "name": "stdout",
     "output_type": "stream",
     "text": [
      "True\n"
     ]
    }
   ],
   "source": [
    "print(c)"
   ]
  },
  {
   "cell_type": "code",
   "execution_count": null,
   "id": "6f0d5488",
   "metadata": {},
   "outputs": [],
   "source": []
  }
 ],
 "metadata": {
  "kernelspec": {
   "display_name": "Python 3 (ipykernel)",
   "language": "python",
   "name": "python3"
  },
  "language_info": {
   "codemirror_mode": {
    "name": "ipython",
    "version": 3
   },
   "file_extension": ".py",
   "mimetype": "text/x-python",
   "name": "python",
   "nbconvert_exporter": "python",
   "pygments_lexer": "ipython3",
   "version": "3.10.5"
  }
 },
 "nbformat": 4,
 "nbformat_minor": 5
}
